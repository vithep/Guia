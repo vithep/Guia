{
 "cells": [
  {
   "cell_type": "markdown",
   "metadata": {},
   "source": [
    "# 3.9 Guia - Datas e Horas"
   ]
  },
  {
   "cell_type": "code",
   "execution_count": 1,
   "metadata": {},
   "outputs": [],
   "source": [
    "import datetime\n",
    "import pytz # Fuso Horario"
   ]
  },
  {
   "cell_type": "code",
   "execution_count": 2,
   "metadata": {},
   "outputs": [
    {
     "name": "stdout",
     "output_type": "stream",
     "text": [
      "2021-05-16 23:08:00.454025\n"
     ]
    }
   ],
   "source": [
    "# Identificando agora\n",
    "Agora = datetime.datetime.now()\n",
    "print(Agora)"
   ]
  },
  {
   "cell_type": "code",
   "execution_count": 3,
   "metadata": {},
   "outputs": [
    {
     "name": "stdout",
     "output_type": "stream",
     "text": [
      "2021-05-16\n"
     ]
    }
   ],
   "source": [
    "# Identificando a data de hoje\n",
    "hoje = datetime.date.today()\n",
    "print(hoje)"
   ]
  },
  {
   "cell_type": "code",
   "execution_count": 12,
   "metadata": {},
   "outputs": [
    {
     "data": {
      "text/plain": [
       "2021"
      ]
     },
     "execution_count": 12,
     "metadata": {},
     "output_type": "execute_result"
    }
   ],
   "source": [
    "# Identificando Ano\n",
    "ano = datetime.datetime.now().year\n",
    "ano"
   ]
  },
  {
   "cell_type": "code",
   "execution_count": 15,
   "metadata": {},
   "outputs": [
    {
     "data": {
      "text/plain": [
       "5"
      ]
     },
     "execution_count": 15,
     "metadata": {},
     "output_type": "execute_result"
    }
   ],
   "source": [
    "# Identificando Mes\n",
    "mes = datetime.datetime.now().month\n",
    "mes"
   ]
  },
  {
   "cell_type": "code",
   "execution_count": 17,
   "metadata": {},
   "outputs": [
    {
     "data": {
      "text/plain": [
       "16"
      ]
     },
     "execution_count": 17,
     "metadata": {},
     "output_type": "execute_result"
    }
   ],
   "source": [
    "# Identificando Dia\n",
    "dia = datetime.datetime.now().day\n",
    "dia"
   ]
  },
  {
   "cell_type": "code",
   "execution_count": 18,
   "metadata": {},
   "outputs": [
    {
     "name": "stdout",
     "output_type": "stream",
     "text": [
      "2021-01-01 00:00:00\n"
     ]
    }
   ],
   "source": [
    "# Agrupando a Data\n",
    "dia = 1\n",
    "mes = 1\n",
    "ano = 2021\n",
    "\n",
    "data_agrupada = datetime.datetime(ano,mes,dia)\n",
    "print(data_agrupada)"
   ]
  },
  {
   "cell_type": "code",
   "execution_count": 19,
   "metadata": {},
   "outputs": [
    {
     "name": "stdout",
     "output_type": "stream",
     "text": [
      "May\n"
     ]
    }
   ],
   "source": [
    "# Identificando o Mes de uma Data\n",
    "identificando = hoje.strftime('%B')\n",
    "print(identificando)"
   ]
  },
  {
   "cell_type": "code",
   "execution_count": 20,
   "metadata": {},
   "outputs": [
    {
     "name": "stdout",
     "output_type": "stream",
     "text": [
      "Sunday\n"
     ]
    }
   ],
   "source": [
    "# Identificando o dia da Semana\n",
    "identificando_Sem = hoje.strftime('%A')\n",
    "print(identificando_Sem)"
   ]
  },
  {
   "cell_type": "code",
   "execution_count": 21,
   "metadata": {},
   "outputs": [
    {
     "name": "stdout",
     "output_type": "stream",
     "text": [
      "19\n"
     ]
    }
   ],
   "source": [
    "# Identificando o dia da Semana \n",
    "# 0 Domingo, 1 Segunda\n",
    "dia_semana_valor = hoje.strftime('%W')\n",
    "print(dia_semana_valor)"
   ]
  },
  {
   "cell_type": "code",
   "execution_count": 23,
   "metadata": {},
   "outputs": [
    {
     "name": "stdout",
     "output_type": "stream",
     "text": [
      "Já se passaram: 136 dias\n"
     ]
    }
   ],
   "source": [
    "# Identificando a quantidade de dias do ano\n",
    "Dias_do_ano = hoje.strftime('%j')\n",
    "print('Já se passaram:', Dias_do_ano,'dias')"
   ]
  },
  {
   "cell_type": "code",
   "execution_count": 25,
   "metadata": {},
   "outputs": [
    {
     "name": "stdout",
     "output_type": "stream",
     "text": [
      "Já se passaram: 20 Semanas\n"
     ]
    }
   ],
   "source": [
    "# Identificando o numero da semana do ano\n",
    "Semana_do_ano = hoje.strftime('%U')\n",
    "print('Já se passaram:', Semana_do_ano,'Semanas')"
   ]
  },
  {
   "cell_type": "code",
   "execution_count": 26,
   "metadata": {},
   "outputs": [
    {
     "name": "stdout",
     "output_type": "stream",
     "text": [
      "AM\n"
     ]
    }
   ],
   "source": [
    "# Identificando se é Manhã ou Tarde\n",
    "horario_do_dia = hoje.strftime('%p')\n",
    "print(horario_do_dia)"
   ]
  },
  {
   "cell_type": "code",
   "execution_count": 27,
   "metadata": {},
   "outputs": [
    {
     "name": "stdout",
     "output_type": "stream",
     "text": [
      "Dia/Mes/Ano: 16/05/21\n",
      "Mes/Dia/Ano: 05/16/21\n",
      "Ano/Mes/Dia: 21/05/16\n"
     ]
    }
   ],
   "source": [
    "# Formatando o Horário\n",
    "\n",
    "dia_mes_ano = '%d/%m/%y'\n",
    "mes_dia_ano = '%m/%d/%y'\n",
    "ano_mes_dia = '%y/%m/%d'\n",
    "\n",
    "print('Dia/Mes/Ano:', hoje.strftime(dia_mes_ano))\n",
    "print('Mes/Dia/Ano:', hoje.strftime(mes_dia_ano))\n",
    "print('Ano/Mes/Dia:', hoje.strftime(ano_mes_dia))"
   ]
  },
  {
   "cell_type": "code",
   "execution_count": 31,
   "metadata": {},
   "outputs": [
    {
     "name": "stdout",
     "output_type": "stream",
     "text": [
      "Nova Iorque: 16/05/21,22:46:57\n",
      "Londres: 17/05/21,03:46:57\n",
      "Tokyo: 17/05/21,11:46:57\n"
     ]
    }
   ],
   "source": [
    "# Formatando para horarios de locais mundiais\n",
    "\n",
    "formato = '%d/%m/%y,%H:%M:%S'\n",
    "\n",
    "# Gerando o Horário de Nova Iorque\n",
    "local_pais = pytz.timezone('America/New_York')\n",
    "horario_local_novaiork = datetime.datetime.now(local_pais)\n",
    "print('Nova Iorque:',horario_local_novaiork.strftime(formato))\n",
    "\n",
    "# Gerando o Horário de Londres\n",
    "local_pais_2 = pytz.timezone('Europe/London')\n",
    "horario_local_londres = datetime.datetime.now(local_pais_2)\n",
    "print('Londres:',horario_local_londres.strftime(formato))\n",
    "\n",
    "# Gerando o Horário de Japão\n",
    "local_pais_3 = pytz.timezone('Asia/Tokyo')\n",
    "horario_local_tokyo = datetime.datetime.now(local_pais_3)\n",
    "print('Tokyo:',horario_local_tokyo.strftime(formato))"
   ]
  },
  {
   "cell_type": "code",
   "execution_count": 32,
   "metadata": {},
   "outputs": [
    {
     "data": {
      "text/plain": [
       "737926"
      ]
     },
     "execution_count": 32,
     "metadata": {},
     "output_type": "execute_result"
    }
   ],
   "source": [
    "# Convertendo uma Data para inteiro\n",
    "data_int = hoje.toordinal()\n",
    "data_int"
   ]
  },
  {
   "cell_type": "code",
   "execution_count": 41,
   "metadata": {},
   "outputs": [
    {
     "name": "stdout",
     "output_type": "stream",
     "text": [
      "2018-06-06 00:00:00\n",
      "2018-06-06 00:00:00\n"
     ]
    }
   ],
   "source": [
    "# Convertendo string para Data\n",
    "#data_01 = 'Wednesday, June 6, 2018'\n",
    "data_02 = '6/6/18'\n",
    "data_03 = '06-06-2018'\n",
    "\n",
    "# Define dates as dateime objects\n",
    "#Data_01_ajustada = datetime.datetime.strptime(data_01,'%A,%B,%d,%Y')\n",
    "Data_02_ajustada = datetime.datetime.strptime(data_02,'%m/%d/%y')\n",
    "Data_03_ajustada = datetime.datetime.strptime(data_03,'%m-%d-%Y')\n",
    "\n",
    "#print(Data_01_ajustada)\n",
    "print(Data_02_ajustada)\n",
    "print(Data_03_ajustada)"
   ]
  },
  {
   "cell_type": "code",
   "execution_count": 44,
   "metadata": {},
   "outputs": [
    {
     "name": "stdout",
     "output_type": "stream",
     "text": [
      "2021-06-30\n",
      "2021-03-22\n",
      "100 dias\n"
     ]
    }
   ],
   "source": [
    "# Atribuindo datas futuras\n",
    "futuro = datetime.date.fromordinal(hoje.toordinal()+45)\n",
    "print(futuro)\n",
    "\n",
    "# Atribuindo datas passadas\n",
    "passado = datetime.date.fromordinal(hoje.toordinal()-55)\n",
    "print(passado)\n",
    "\n",
    "# Calculando intervalo de duas datas\n",
    "intervalo = futuro - passado\n",
    "\n",
    "print(intervalo.days, 'dias')"
   ]
  },
  {
   "cell_type": "code",
   "execution_count": 45,
   "metadata": {},
   "outputs": [
    {
     "name": "stdout",
     "output_type": "stream",
     "text": [
      "Hoje é domingo\n"
     ]
    }
   ],
   "source": [
    "# Criando uma regra de dias de Semana\n",
    "def dias_semana(numero_semana):\n",
    "    dias=['segunda','terça','quarta','quinta','sexta','sabado','domingo']\n",
    "    return dias[numero_semana]\n",
    "numero_semana = int(hoje.weekday())\n",
    "\n",
    "print('Hoje é', dias_semana(numero_semana))"
   ]
  },
  {
   "cell_type": "code",
   "execution_count": 48,
   "metadata": {},
   "outputs": [
    {
     "name": "stdout",
     "output_type": "stream",
     "text": [
      "Hora:  23\n",
      "Minutos:  8\n"
     ]
    }
   ],
   "source": [
    "# Extraindo apenas a hora\n",
    "print('Hora: ', Agora.hour)\n",
    "\n",
    "# Extraindo apenas os minutos\n",
    "print('Minutos: ', Agora.minute)"
   ]
  },
  {
   "cell_type": "code",
   "execution_count": 50,
   "metadata": {},
   "outputs": [
    {
     "name": "stdout",
     "output_type": "stream",
     "text": [
      "Hora Temporal: 1621217280.454025\n"
     ]
    }
   ],
   "source": [
    "# Converter um horario para horario temporal\n",
    "horario_temporal = datetime.datetime.timestamp(Agora)\n",
    "print('Hora Temporal:', horario_temporal)"
   ]
  },
  {
   "cell_type": "code",
   "execution_count": 51,
   "metadata": {},
   "outputs": [
    {
     "name": "stdout",
     "output_type": "stream",
     "text": [
      "Hora Convertida 2021-05-16 23:08:00.454025\n"
     ]
    }
   ],
   "source": [
    "# Convertendo hora temporal\n",
    "hora_temporal_numericc = 1621217280.454025\n",
    "\n",
    "# convert timestamp to datetime object\n",
    "converter = datetime.datetime.fromtimestamp(hora_temporal_numericc)\n",
    "\n",
    "print('Hora Convertida', converter)"
   ]
  },
  {
   "cell_type": "code",
   "execution_count": 52,
   "metadata": {},
   "outputs": [
    {
     "name": "stdout",
     "output_type": "stream",
     "text": [
      "horario: 09:40:00\n"
     ]
    }
   ],
   "source": [
    "# Converter string em hora (12 horas)\n",
    "\n",
    "hora_formatada = 'Apr 25 2021 9:40AM'\n",
    "ajustando = datetime.datetime.strptime(hora_formatada,'%b %d %Y %I:%M%p')\n",
    "\n",
    "print('horario:',ajustando.time())"
   ]
  },
  {
   "cell_type": "code",
   "execution_count": 54,
   "metadata": {},
   "outputs": [
    {
     "name": "stdout",
     "output_type": "stream",
     "text": [
      "horario: 12:15:27.243860\n"
     ]
    }
   ],
   "source": [
    "# Converter string em hora (12 horas)\n",
    "\n",
    "hora_formatada_2 = '2018-06-29 12:15:27.243860'\n",
    "ajustando_2 = datetime.datetime.strptime(hora_formatada_2,'%Y-%m-%d %H:%M:%S.%f')\n",
    "\n",
    "print('horario:',ajustando_2.time())"
   ]
  }
 ],
 "metadata": {
  "kernelspec": {
   "display_name": "Python 3",
   "language": "python",
   "name": "python3"
  },
  "language_info": {
   "codemirror_mode": {
    "name": "ipython",
    "version": 3
   },
   "file_extension": ".py",
   "mimetype": "text/x-python",
   "name": "python",
   "nbconvert_exporter": "python",
   "pygments_lexer": "ipython3",
   "version": "3.8.5"
  }
 },
 "nbformat": 4,
 "nbformat_minor": 4
}
