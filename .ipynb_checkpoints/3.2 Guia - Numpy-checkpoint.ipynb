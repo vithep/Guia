{
 "cells": [
  {
   "cell_type": "markdown",
   "metadata": {},
   "source": [
    "# 3.2 Guia - Numpy"
   ]
  },
  {
   "cell_type": "code",
   "execution_count": 17,
   "metadata": {},
   "outputs": [],
   "source": [
    "import numpy as np"
   ]
  },
  {
   "cell_type": "code",
   "execution_count": 18,
   "metadata": {},
   "outputs": [
    {
     "name": "stdout",
     "output_type": "stream",
     "text": [
      "Tamanho do Array: 1000000\n",
      "Tamanho do Array: 10000000\n",
      "Tamanho do Array: 50000000\n",
      "Tamanho do Array: 100000000\n"
     ]
    }
   ],
   "source": [
    "# Gerando 1 milhão de Registros\n",
    "Estresando_Numpy_01 = np.arange(1000000)\n",
    "# Gerando 10 milhões de Registros\n",
    "Estresando_Numpy_02 = np.arange(10000000)\n",
    "# Gerando 50 milhões de Registros\n",
    "Estresando_Numpy_03 = np.arange(50000000)\n",
    "# Gerando 100 milhões de Registros\n",
    "Estresando_Numpy_04 = np.arange(100000000)\n",
    "\n",
    "# Verificando o Array\n",
    "print('Tamanho do Array:', len(Estresando_Numpy_01))\n",
    "print('Tamanho do Array:', len(Estresando_Numpy_02))\n",
    "print('Tamanho do Array:', len(Estresando_Numpy_03))\n",
    "print('Tamanho do Array:', len(Estresando_Numpy_04))"
   ]
  },
  {
   "cell_type": "code",
   "execution_count": 19,
   "metadata": {},
   "outputs": [
    {
     "name": "stdout",
     "output_type": "stream",
     "text": [
      "Wall time: 282 ms\n"
     ]
    }
   ],
   "source": [
    "# Verificando o Array\n",
    "%time for i in Estresando_Numpy_01: pass"
   ]
  },
  {
   "cell_type": "code",
   "execution_count": 20,
   "metadata": {},
   "outputs": [
    {
     "name": "stdout",
     "output_type": "stream",
     "text": [
      "Wall time: 2.14 s\n"
     ]
    }
   ],
   "source": [
    "# Verificando o Array\n",
    "%time for i in Estresando_Numpy_02: pass"
   ]
  },
  {
   "cell_type": "code",
   "execution_count": 21,
   "metadata": {},
   "outputs": [
    {
     "name": "stdout",
     "output_type": "stream",
     "text": [
      "Wall time: 9.35 s\n"
     ]
    }
   ],
   "source": [
    "# Verificando o Array\n",
    "%time for i in Estresando_Numpy_03: pass"
   ]
  },
  {
   "cell_type": "code",
   "execution_count": 22,
   "metadata": {},
   "outputs": [
    {
     "name": "stdout",
     "output_type": "stream",
     "text": [
      "Wall time: 15.1 s\n"
     ]
    }
   ],
   "source": [
    "# Verificando o Array\n",
    "%time for i in Estresando_Numpy_04: pass"
   ]
  },
  {
   "cell_type": "code",
   "execution_count": 23,
   "metadata": {},
   "outputs": [
    {
     "name": "stdout",
     "output_type": "stream",
     "text": [
      "1.19.2\n"
     ]
    }
   ],
   "source": [
    "# Versão\n",
    "print(np.__version__)"
   ]
  },
  {
   "cell_type": "code",
   "execution_count": 24,
   "metadata": {},
   "outputs": [
    {
     "data": {
      "text/plain": [
       "array([10, 20, 30, 40, 50])"
      ]
     },
     "execution_count": 24,
     "metadata": {},
     "output_type": "execute_result"
    }
   ],
   "source": [
    "# Criando matriz com uma dimnesão\n",
    "Array = np.array([10,20,30,40,50])\n",
    "Array"
   ]
  },
  {
   "cell_type": "code",
   "execution_count": 25,
   "metadata": {},
   "outputs": [
    {
     "name": "stdout",
     "output_type": "stream",
     "text": [
      "<class 'numpy.ndarray'>\n"
     ]
    }
   ],
   "source": [
    "# Verificando o Tipo\n",
    "print( type(Array))"
   ]
  },
  {
   "cell_type": "code",
   "execution_count": 26,
   "metadata": {},
   "outputs": [
    {
     "data": {
      "text/plain": [
       "array([10, 20, 30, 40, 50])"
      ]
     },
     "execution_count": 26,
     "metadata": {},
     "output_type": "execute_result"
    }
   ],
   "source": [
    "# Criando Trupla usando 1 dimensão\n",
    "Tupla_Array = np.array((10,20,30,40,50))\n",
    "Tupla_Array"
   ]
  },
  {
   "cell_type": "code",
   "execution_count": 27,
   "metadata": {},
   "outputs": [
    {
     "data": {
      "text/plain": [
       "array(11)"
      ]
     },
     "execution_count": 27,
     "metadata": {},
     "output_type": "execute_result"
    }
   ],
   "source": [
    "# Criando uma Matriz com 0 dimensões\n",
    "Matriz_Zero = np.array(11)\n",
    "Matriz_Zero"
   ]
  },
  {
   "cell_type": "code",
   "execution_count": 28,
   "metadata": {},
   "outputs": [
    {
     "name": "stdout",
     "output_type": "stream",
     "text": [
      "[list([10, 9, 8, 7, 6]) list([5, 4, 3, 2, 1, 0])]\n"
     ]
    },
    {
     "name": "stderr",
     "output_type": "stream",
     "text": [
      "<ipython-input-28-909d6dc3b3da>:2: VisibleDeprecationWarning: Creating an ndarray from ragged nested sequences (which is a list-or-tuple of lists-or-tuples-or ndarrays with different lengths or shapes) is deprecated. If you meant to do this, you must specify 'dtype=object' when creating the ndarray\n",
      "  Matriz_Duas_Dimensoes = np.array([\n"
     ]
    }
   ],
   "source": [
    "# Matriz com duas Dimensões\n",
    "Matriz_Duas_Dimensoes = np.array([\n",
    "    [10,9,8,7,6],\n",
    "    [5,4,3,2,1,0]\n",
    "])\n",
    "\n",
    "print(Matriz_Duas_Dimensoes)"
   ]
  },
  {
   "cell_type": "code",
   "execution_count": 29,
   "metadata": {},
   "outputs": [
    {
     "name": "stdout",
     "output_type": "stream",
     "text": [
      "[list([15, 14, 13, 12, 11]) list([10, 9, 8, 7, 6])\n",
      " list([5, 4, 3, 2, 1, 0])]\n"
     ]
    },
    {
     "name": "stderr",
     "output_type": "stream",
     "text": [
      "<ipython-input-29-073f985c7399>:2: VisibleDeprecationWarning: Creating an ndarray from ragged nested sequences (which is a list-or-tuple of lists-or-tuples-or ndarrays with different lengths or shapes) is deprecated. If you meant to do this, you must specify 'dtype=object' when creating the ndarray\n",
      "  Matriz_Tres_Dimensoes=np.array([\n"
     ]
    }
   ],
   "source": [
    "# Matriz com três Dimensões\n",
    "Matriz_Tres_Dimensoes=np.array([\n",
    "    [15,14,13,12,11],\n",
    "    [10,9,8,7,6],\n",
    "    [5,4,3,2,1,0]\n",
    "])\n",
    "\n",
    "print(Matriz_Tres_Dimensoes)"
   ]
  },
  {
   "cell_type": "code",
   "execution_count": 30,
   "metadata": {},
   "outputs": [
    {
     "name": "stdout",
     "output_type": "stream",
     "text": [
      "Qtas Dimensões no \"Matriz_Zero\": 0 \n",
      "\n",
      "Qtas Dimensões no \"Array\": 1 \n",
      "\n",
      "Qtas Dimensões no \"Matriz_Duas_Dimensoes\": 1 \n",
      "\n",
      "Qtas Dimensões no \"Matriz_Tres_Dimensoes\": 1 \n",
      "\n"
     ]
    }
   ],
   "source": [
    "# Verificando a quantidade de Dimensões em uma Matriz\n",
    "print('Qtas Dimensões no \"Matriz_Zero\":', Matriz_Zero.ndim,'\\n')\n",
    "print('Qtas Dimensões no \"Array\":', Array.ndim,'\\n')\n",
    "print('Qtas Dimensões no \"Matriz_Duas_Dimensoes\":', Matriz_Duas_Dimensoes.ndim,'\\n')\n",
    "print('Qtas Dimensões no \"Matriz_Tres_Dimensoes\":', Matriz_Tres_Dimensoes.ndim,'\\n')"
   ]
  },
  {
   "cell_type": "code",
   "execution_count": 34,
   "metadata": {},
   "outputs": [
    {
     "name": "stdout",
     "output_type": "stream",
     "text": [
      "[[[[[[[[[[999 998 997 996 995]]]]]]]]]] \n",
      "\n",
      "Dimensões: 10\n"
     ]
    }
   ],
   "source": [
    "# Criar uma mariz e definir a quantidade de dimensões\n",
    "Definindo_Numeros_Dimensoes = np.array(\n",
    "    [999,998,997,996,995],\n",
    "    ndmin=10\n",
    ")\n",
    "print(Definindo_Numeros_Dimensoes, '\\n')\n",
    "print('Dimensões:', Definindo_Numeros_Dimensoes.ndim)"
   ]
  },
  {
   "cell_type": "code",
   "execution_count": 35,
   "metadata": {},
   "outputs": [
    {
     "name": "stdout",
     "output_type": "stream",
     "text": [
      "Acessando posição 1: 10\n",
      "Acessando a ultima posição: 50\n",
      "Acessando a penultima posição: [40]\n",
      "Acessando um range posição: [10 20 30]\n"
     ]
    }
   ],
   "source": [
    "# Podemos acessar um valor atras da posição\n",
    "\n",
    "Array=np.array([10,20,30,40,50])\n",
    "\n",
    "print('Acessando posição 1:',Array[0])\n",
    "print('Acessando a ultima posição:',Array[-1])\n",
    "print('Acessando a penultima posição:',Array[-2:-1])\n",
    "print('Acessando um range posição:',Array[0:3])"
   ]
  },
  {
   "cell_type": "code",
   "execution_count": 37,
   "metadata": {},
   "outputs": [
    {
     "name": "stdout",
     "output_type": "stream",
     "text": [
      "Operações Matematicas Resultado \\o/\n",
      "Soma:  30\n",
      "Subtração:  -10\n",
      "Divisão:  0.5\n",
      "Multiplicação:  200\n",
      "Resto:  10\n",
      "Expoente:  1661992960\n",
      "\n",
      " Condições Resultados \\o/\n",
      "Condição_Igual:  False\n",
      "Condição_Maior_Igual:  False\n",
      "Condição_Menor:  True\n",
      "Condição_Menor_Igual:  True\n",
      "Diferente:  True\n"
     ]
    }
   ],
   "source": [
    "# Operações matematicas\n",
    "Soma = Array[0]+Array[1]\n",
    "Subtração = Array[0]-Array[1]\n",
    "Divisão = Array[0] / Array[1]\n",
    "Multiplicação = Array[0]*Array[1]\n",
    "Resto=Array[0]%Array[1]\n",
    "Expoente=Array[0]**Array[1]\n",
    "\n",
    "# Podemos fazer condições\n",
    "Condição_Igual = Array[0] == Array[1]\n",
    "Condição_Maior = Array[0] > Array[1]\n",
    "Condição_Menor = Array[0] < Array[1]\n",
    "Condição_Maior_Igual = Array[0] >= Array[1]\n",
    "Condição_Menor_Igual = Array[0] <= Array[1]\n",
    "Diferente = Array[0] != Array[1]\n",
    "\n",
    "print('Operações Matematicas Resultado \\o/')\n",
    "print('Soma: ',Soma)\n",
    "print('Subtração: ',Subtração)\n",
    "print('Divisão: ',Divisão)\n",
    "print('Multiplicação: ',Multiplicação)\n",
    "print('Resto: ',Resto)\n",
    "print('Expoente: ',Expoente)\n",
    "\n",
    "print('\\n','Condições Resultados \\o/')\n",
    "print('Condição_Igual: ',Condição_Igual)\n",
    "print('Condição_Maior_Igual: ',Condição_Maior_Igual)\n",
    "print('Condição_Menor: ',Condição_Menor)\n",
    "print('Condição_Menor_Igual: ',Condição_Menor_Igual)\n",
    "print('Diferente: ',Diferente)"
   ]
  },
  {
   "cell_type": "code",
   "execution_count": 38,
   "metadata": {},
   "outputs": [
    {
     "name": "stdout",
     "output_type": "stream",
     "text": [
      "Acessando a 2º Dimensão, Posição numero 2\n",
      "9\n"
     ]
    }
   ],
   "source": [
    "# Acessando uma Matriz com 2 Dimensões\n",
    "Matriz_Dois_Dimensoes = np.array([\n",
    "    [15,14,13,12,11],\n",
    "    [10,9,8,7,6]\n",
    "])\n",
    "\n",
    "print('Acessando a 2º Dimensão, Posição numero 2')\n",
    "print(Matriz_Dois_Dimensoes[1,1])"
   ]
  },
  {
   "cell_type": "code",
   "execution_count": 39,
   "metadata": {},
   "outputs": [
    {
     "name": "stdout",
     "output_type": "stream",
     "text": [
      "int32\n",
      "<U5\n",
      "|S2\n",
      "float32\n"
     ]
    }
   ],
   "source": [
    "# Tipos de Formatos de Campo\n",
    "Inteiro = np.array([10,20,30,40,50])\n",
    "Textos = np.array(['Uva','Pera','Limão'])\n",
    "Fragmento = np.array([10,20,30,40,50],dtype='S')\n",
    "Flutuante = np.array([10,20,30,40,50],dtype='f')\n",
    "\n",
    "print(Inteiro.dtype)\n",
    "print(Textos.dtype)\n",
    "print(Fragmento.dtype)\n",
    "print(Flutuante.dtype)"
   ]
  },
  {
   "cell_type": "code",
   "execution_count": 40,
   "metadata": {},
   "outputs": [
    {
     "name": "stdout",
     "output_type": "stream",
     "text": [
      "int32\n",
      "bool\n",
      "float32\n"
     ]
    }
   ],
   "source": [
    "# Podemos Converter o formato de matriz para um outro tipo\n",
    "Inteiro = np.array([10,20,30,40,50])\n",
    "Converter_Booleano = Inteiro.astype('bool')\n",
    "Converter_Quebrado = Inteiro.astype('f')\n",
    "\n",
    "print(Inteiro.dtype)\n",
    "print(Converter_Booleano.dtype)\n",
    "print(Converter_Quebrado.dtype)"
   ]
  },
  {
   "cell_type": "code",
   "execution_count": 41,
   "metadata": {},
   "outputs": [
    {
     "data": {
      "text/plain": [
       "(3,)"
      ]
     },
     "execution_count": 41,
     "metadata": {},
     "output_type": "execute_result"
    }
   ],
   "source": [
    "# Shape\n",
    "Matriz_Tres_Dimensoes.shape"
   ]
  },
  {
   "cell_type": "code",
   "execution_count": 43,
   "metadata": {},
   "outputs": [
    {
     "name": "stdout",
     "output_type": "stream",
     "text": [
      "1º Matriz:  \n",
      " [[ 1  2  3]\n",
      " [ 4  5  6]\n",
      " [ 7  8  9]\n",
      " [10 11 12]] \n",
      "\n",
      "1º Matriz:  \n",
      " [[ 1  2  3  4  5  6]\n",
      " [ 7  8  9 10 11 12]]\n"
     ]
    }
   ],
   "source": [
    "# Remodelar a Matriz\n",
    "\n",
    "Matriz_Uma_Dimensão = np.array([1,2,3,4,5,6,7,\n",
    "                               8,9,10,11,12])\n",
    "Remodelando_01 = Matriz_Uma_Dimensão.reshape(4,3)\n",
    "Remodelando_02 = Matriz_Uma_Dimensão.reshape(2,6)\n",
    "print('1º Matriz: ','\\n', Remodelando_01, '\\n')\n",
    "print('1º Matriz: ','\\n', Remodelando_02)"
   ]
  },
  {
   "cell_type": "code",
   "execution_count": 44,
   "metadata": {},
   "outputs": [
    {
     "name": "stdout",
     "output_type": "stream",
     "text": [
      "1\n",
      "2\n",
      "3\n",
      "4\n",
      "5\n",
      "6\n",
      "7\n",
      "8\n",
      "9\n",
      "10\n",
      "11\n",
      "12\n"
     ]
    }
   ],
   "source": [
    "# Percorrendo uma Matriz\n",
    "\n",
    "Matriz_Uma_Dimensão = np.array([1,2,3,4,5,6,7,\n",
    "                               8,9,10,11,12])\n",
    "for Percorrendo in Matriz_Uma_Dimensão:\n",
    "    print(Percorrendo)"
   ]
  },
  {
   "cell_type": "code",
   "execution_count": 46,
   "metadata": {},
   "outputs": [
    {
     "name": "stdout",
     "output_type": "stream",
     "text": [
      "15\n",
      "14\n",
      "13\n",
      "12\n",
      "11\n",
      "10\n",
      "9\n",
      "8\n",
      "7\n",
      "6\n",
      "5\n"
     ]
    },
    {
     "name": "stderr",
     "output_type": "stream",
     "text": [
      "<ipython-input-46-7e6fcd4a2e2c>:2: VisibleDeprecationWarning: Creating an ndarray from ragged nested sequences (which is a list-or-tuple of lists-or-tuples-or ndarrays with different lengths or shapes) is deprecated. If you meant to do this, you must specify 'dtype=object' when creating the ndarray\n",
      "  Matriz_Dois_Dimensoes = np.array([\n"
     ]
    }
   ],
   "source": [
    "# Percorrendo uma matriz de 2 Dimensões\n",
    "Matriz_Dois_Dimensoes = np.array([\n",
    "    [15,14,13,12,11],\n",
    "    [10,9,8,7,6,5]\n",
    "])\n",
    "\n",
    "for Percorrendo in Matriz_Dois_Dimensoes:\n",
    "    for Posicao in Percorrendo:\n",
    "        print(Posicao)"
   ]
  },
  {
   "cell_type": "code",
   "execution_count": 47,
   "metadata": {},
   "outputs": [
    {
     "name": "stdout",
     "output_type": "stream",
     "text": [
      "(0,) 1\n",
      "(1,) 2\n",
      "(2,) 3\n",
      "(3,) 4\n",
      "(4,) 5\n",
      "(5,) 6\n",
      "(6,) 7\n",
      "(7,) 8\n",
      "(8,) 9\n",
      "(9,) 10\n",
      "(10,) 11\n",
      "(11,) 12\n"
     ]
    }
   ],
   "source": [
    "# Percorrendo uma Matriz e Enumerando a posição\n",
    "Matriz_Uma_Dimensão = np.array([1,2,3,4,5,6,7,\n",
    "                               8,9,10,11,12])\n",
    "for Posicao, Percorrendo in np.ndenumerate(Matriz_Uma_Dimensão):\n",
    "    print(Posicao, Percorrendo)"
   ]
  },
  {
   "cell_type": "code",
   "execution_count": 48,
   "metadata": {},
   "outputs": [
    {
     "name": "stdout",
     "output_type": "stream",
     "text": [
      "[4 5 6 1 2 3] \n",
      "\n",
      "[1 2 3 4 5 6 1 2 3] \n",
      "\n",
      "[ 2  4  6  4 10 18 -3 -3 -3] \n",
      "\n"
     ]
    }
   ],
   "source": [
    "# Juntar 2 Matrizes em uma unica\n",
    "Array_01 = np.array([1,2,3])\n",
    "Array_02 = np.array([4,5,6])\n",
    "\n",
    "#Exemplo_01\n",
    "Juntando_01 = np.concatenate((Array_02,Array_01))\n",
    "#Exemplo_02\n",
    "Juntando_02 = np.concatenate((Array_01,Array_02,Array_01))\n",
    "#Exemplo_03\n",
    "Juntando_03 = np.concatenate((Array_01*2,\n",
    "                              Array_02*Array_01,\n",
    "                              Array_01-Array_02))\n",
    "print(Juntando_01,'\\n')\n",
    "print(Juntando_02,'\\n')\n",
    "print(Juntando_03,'\\n')"
   ]
  },
  {
   "cell_type": "code",
   "execution_count": 49,
   "metadata": {},
   "outputs": [
    {
     "name": "stdout",
     "output_type": "stream",
     "text": [
      "[array([1, 2]), array([3, 4]), array([5, 6])] \n",
      "\n",
      "[array([1, 2]), array([3, 4]), array([5]), array([6])] \n",
      "\n",
      "[array([1, 2, 3]), array([4, 5, 6])]\n"
     ]
    }
   ],
   "source": [
    "# Quebrando/Fatiando uma Matriz\n",
    "\n",
    "Array = np.array([1,2,3,4,5,6])\n",
    "Quebrando_Array_em3 = np.array_split(Array,3)\n",
    "Quebrando_Array_em4 = np.array_split(Array,4)\n",
    "Quebrando_Array_em2 = np.array_split(Array,2)\n",
    "\n",
    "print(Quebrando_Array_em3,'\\n')\n",
    "print(Quebrando_Array_em4,'\\n')\n",
    "print(Quebrando_Array_em2)"
   ]
  },
  {
   "cell_type": "code",
   "execution_count": 51,
   "metadata": {},
   "outputs": [
    {
     "name": "stdout",
     "output_type": "stream",
     "text": [
      "[array([[ 1],\n",
      "       [ 4],\n",
      "       [ 7],\n",
      "       [10],\n",
      "       [13],\n",
      "       [16]]), array([[ 2],\n",
      "       [ 5],\n",
      "       [ 8],\n",
      "       [11],\n",
      "       [14],\n",
      "       [17]]), array([[ 3],\n",
      "       [ 6],\n",
      "       [ 9],\n",
      "       [12],\n",
      "       [15],\n",
      "       [18]])]\n"
     ]
    }
   ],
   "source": [
    "# Outro metodo para quebrar\n",
    "\n",
    "Matriz = np.array([[1,2,3],\n",
    "                 [4,5,6],\n",
    "                 [7,8,9],\n",
    "                 [10,11,12],\n",
    "                 [13,14,15],\n",
    "                 [16,17,18]])\n",
    "\n",
    "Quebrando = np.hsplit(Matriz,3)\n",
    "print(Quebrando)"
   ]
  },
  {
   "cell_type": "code",
   "execution_count": 52,
   "metadata": {},
   "outputs": [
    {
     "name": "stdout",
     "output_type": "stream",
     "text": [
      "(array([1], dtype=int64),) \n",
      "\n",
      "(array([2, 3, 4, 5], dtype=int64),) \n",
      "\n",
      "(array([0], dtype=int64),)\n"
     ]
    }
   ],
   "source": [
    "# Procurando valores em uma Matriz\n",
    "\n",
    "Array = np.array([1,2,3,4,5,6])\n",
    "\n",
    "Procurando_01 = np.where(Array==2)\n",
    "Procurando_02 = np.where(Array>2)\n",
    "Procurando_03 = np.where(Array==True)\n",
    "\n",
    "print(Procurando_01,'\\n')\n",
    "print(Procurando_02,'\\n')\n",
    "print(Procurando_03)"
   ]
  },
  {
   "cell_type": "code",
   "execution_count": 53,
   "metadata": {},
   "outputs": [
    {
     "name": "stdout",
     "output_type": "stream",
     "text": [
      "[ 1  2  4  6 10 11] \n",
      "\n",
      "[list([5, 4, 3, 2, 1, 0]) list([10, 9, 8, 7, 6])] \n",
      "\n"
     ]
    },
    {
     "name": "stderr",
     "output_type": "stream",
     "text": [
      "<ipython-input-53-a597d752a4ca>:3: VisibleDeprecationWarning: Creating an ndarray from ragged nested sequences (which is a list-or-tuple of lists-or-tuples-or ndarrays with different lengths or shapes) is deprecated. If you meant to do this, you must specify 'dtype=object' when creating the ndarray\n",
      "  Matriz_Duas_Dimensoes = np.array([\n"
     ]
    }
   ],
   "source": [
    "# Ordenando uma Matriz\n",
    "Array = np.array([4,10,6,11,1,2])\n",
    "Matriz_Duas_Dimensoes = np.array([\n",
    "    [10,9,8,7,6],\n",
    "    [5,4,3,2,1,0]\n",
    "])\n",
    "Ordenando_01 = np.sort(Array)\n",
    "Ordenando_02 = np.sort(Matriz_Duas_Dimensoes)\n",
    "\n",
    "print(Ordenando_01,'\\n')\n",
    "print(Ordenando_02,'\\n')"
   ]
  },
  {
   "cell_type": "code",
   "execution_count": null,
   "metadata": {},
   "outputs": [],
   "source": []
  }
 ],
 "metadata": {
  "kernelspec": {
   "display_name": "Python 3",
   "language": "python",
   "name": "python3"
  },
  "language_info": {
   "codemirror_mode": {
    "name": "ipython",
    "version": 3
   },
   "file_extension": ".py",
   "mimetype": "text/x-python",
   "name": "python",
   "nbconvert_exporter": "python",
   "pygments_lexer": "ipython3",
   "version": "3.8.5"
  }
 },
 "nbformat": 4,
 "nbformat_minor": 4
}
